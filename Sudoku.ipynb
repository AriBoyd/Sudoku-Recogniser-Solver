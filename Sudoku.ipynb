{
 "cells": [
  {
   "cell_type": "code",
   "execution_count": 106,
   "metadata": {},
   "outputs": [],
   "source": [
    "from copy import deepcopy\n",
    "from typing import Optional, Union\n",
    "import numpy as np\n",
    "import cv2\n",
    "from matplotlib import pyplot as plt\n",
    "from operator import itemgetter\n",
    "import keras\n",
    "from keras import layers"
   ]
  },
  {
   "cell_type": "markdown",
   "metadata": {},
   "source": [
    "## Sudoku Solver Class\n",
    "The below class implements a solver for the Sudoku puzzle family, using the wave function collapse approach."
   ]
  },
  {
   "cell_type": "code",
   "execution_count": 71,
   "metadata": {},
   "outputs": [],
   "source": [
    "BoardSuperposition = list[list[Union[set[int], int]]]\n",
    "Square = tuple[int, int]\n",
    "# ConstraintBoard's con_board is a 2D list of where con_board[x][y] is a set of possible numbers in the square\n",
    "# Squares that are filled in instead just have the corresponding int\n",
    "class ConstraintBoard:\n",
    "    \"\"\"\n",
    "    A ConstraintBoard represents a Sudoku board, where the set at x, y in its con_board represents all the\n",
    "    possible numbers for the blank square at row x, column y in the corresponding Sudoku.\n",
    "    If conv_board[x][y] is a singleton set, it represents a filled square.\n",
    "    \"\"\"\n",
    "    def __init__(self, box_size: int=3, coords: Optional[list[tuple[int, int, int]]]=None, matrix: Optional[list[list[int]]]=None) -> None:\n",
    "        self.box_size = box_size\n",
    "        self.length = box_size**2\n",
    "        # Initialise a blank board with all possible numbers for each square\n",
    "        if coords:\n",
    "            self.con_board = self.board_from_coords(coords)\n",
    "        elif matrix:\n",
    "            self.con_board = self.board_from_matrix(matrix)\n",
    "        else:\n",
    "            self.con_board = self.init_blank_board()\n",
    "            \n",
    "    def init_blank_board(self) -> BoardSuperposition:\n",
    "        \"\"\"\n",
    "        Returns a blank board\n",
    "        \"\"\"\n",
    "        return [[set(range(1, self.length+1)) for _ in range(self.length)] for _ in range(self.length)]\n",
    "        \n",
    "                        \n",
    "    def board_from_coords(self, coords: list[tuple[int, int, int]]) -> BoardSuperposition:\n",
    "        \"\"\"\n",
    "        Initialise a board from a list of square coordinates and numbers\n",
    "        \"\"\"\n",
    "        new_board = self.init_blank_board()\n",
    "        for (x, y, num) in coords: \n",
    "            new_board = self.fill_square((x, y), num, new_board)\n",
    "        return new_board\n",
    "\n",
    "    def board_from_matrix(self, matrix: list[list[int]], blank: int=0) -> BoardSuperposition:\n",
    "        \"\"\"\n",
    "        Intialise a board from a 2D list representing squares in a Sudoku board\n",
    "        \"\"\"\n",
    "        new_board = self.init_blank_board()\n",
    "        for x in range(len(matrix)):\n",
    "            for y in range(len(matrix[x])):\n",
    "                num = matrix[x][y]\n",
    "                if num != blank:\n",
    "                    new_board = self.fill_square((x, y), num, new_board)\n",
    "        return new_board\n",
    "\n",
    "    def solve(self, board: BoardSuperposition) -> Optional[BoardSuperposition]:\n",
    "        \"\"\"\n",
    "        Recursively fill in squares, backtracking if necessary until a solution is achieved\n",
    "        \"\"\"\n",
    "        square = self.get_next_empty(board)\n",
    "        # We've solved it!\n",
    "        if not square:\n",
    "            return board\n",
    "\n",
    "        options = board[square[0]][square[1]]\n",
    "        if type(options) == int:\n",
    "            raise TypeError(\"The picked square to fill is already filled\")\n",
    "        # Recursively split to try every possible number for the given square\n",
    "        for option in options:\n",
    "            new_board = self.fill_square(square, option, board)\n",
    "            if self.check_unsolvable(new_board):\n",
    "                continue\n",
    "            solution = self.solve(new_board)\n",
    "            # Only care about the first solution\n",
    "            if solution:\n",
    "                return solution\n",
    "        # The given board is unsolvable\n",
    "        return None\n",
    "    \n",
    "    def get_next_empty(self, board: BoardSuperposition) -> Optional[Square]:\n",
    "        \"\"\"\n",
    "        Find the next empty square with fewest possible numbers, return its coords as a tuple\n",
    "        \"\"\"\n",
    "        best_square = None\n",
    "        cur_fewest = self.length + 1\n",
    "\n",
    "        for row in range(self.length):\n",
    "            for col in range(self.length):\n",
    "                if type(board[row][col]) != int and len(board[row][col]) < cur_fewest:\n",
    "                    best_square = (row, col)\n",
    "                    cur_fewest = len(board[row][col])\n",
    "        return best_square\n",
    "\n",
    "    def fill_square(self, square: Square, num: int, board: BoardSuperposition) -> BoardSuperposition:\n",
    "        \"\"\"\n",
    "        Returns a copy of the supplied board with 'square' filled with 'num' and 'num' removed as a possibility from squares\n",
    "        in the same row, column, and box.\n",
    "        \"\"\"\n",
    "        new_board = deepcopy(board)\n",
    "        squares = self.get_squares(square)\n",
    "        for (row, col) in squares:\n",
    "            if type(board[row][col]) != int:\n",
    "                new_board[row][col].discard(num)\n",
    "        new_board[square[0]][square[1]] = num\n",
    "        return new_board\n",
    "\n",
    "    def get_squares(self, square: Square) -> set[Square]:\n",
    "        \"\"\"\n",
    "        Gets the coordinates of every other square in the same row, column, and square\n",
    "        \"\"\"\n",
    "        # Which box the square is in, e.g. (0, 0) is the top-leftmost box\n",
    "        box = (square[0]//self.box_size, square[1]//self.box_size)\n",
    "        indices = range(self.length)\n",
    "        same_row = {(num, square[1]) for num in indices}\n",
    "        same_col = {(square[0], num) for num in indices}\n",
    "        same_box = {(self.box_size*box[0]+i, self.box_size*box[1]+j) \n",
    "                    for i in range(self.box_size) for j in range(self.box_size)}\n",
    "        squares = same_row | same_col | same_box\n",
    "        # The square being filled should keep the number as a possibility\n",
    "        squares.remove(square)\n",
    "        return squares\n",
    "    \n",
    "    def check_unsolvable(self, board: BoardSuperposition) -> bool:\n",
    "        \"\"\"\n",
    "        Returns True if the given board cannot be solved, i.e. has a square with no possible number to fill it.\n",
    "        Returns False otherwise.\n",
    "        \"\"\"\n",
    "        for row in board:\n",
    "            for square in row:\n",
    "                if type(square) != int and len(square) < 1:\n",
    "                    return True\n",
    "        return False"
   ]
  },
  {
   "cell_type": "markdown",
   "metadata": {},
   "source": [
    "Here's a demonstration of it solving a sample Sudoku puzzle:"
   ]
  },
  {
   "cell_type": "code",
   "execution_count": null,
   "metadata": {},
   "outputs": [
    {
     "data": {
      "text/plain": [
       "[[5, 2, 8, 1, 4, 3, 9, 7, 6],\n",
       " [4, 3, 1, 9, 7, 6, 5, 8, 2],\n",
       " [9, 6, 7, 5, 2, 8, 3, 1, 4],\n",
       " [7, 5, 3, 4, 8, 9, 6, 2, 1],\n",
       " [2, 4, 6, 3, 1, 5, 8, 9, 7],\n",
       " [8, 1, 9, 2, 6, 7, 4, 3, 5],\n",
       " [1, 8, 5, 6, 3, 2, 7, 4, 9],\n",
       " [3, 9, 4, 7, 5, 1, 2, 6, 8],\n",
       " [6, 7, 2, 8, 9, 4, 1, 5, 3]]"
      ]
     },
     "execution_count": 72,
     "metadata": {},
     "output_type": "execute_result"
    }
   ],
   "source": [
    "# sample = [(0,4,8),(0,6,5),(1,0,2),(1,2,4),(1,5,3),(1,8,7),(2,7,9),(2,8,1),(3,0,6),(3,5,1),(4,1,2),(4,3,6),(4,4,9),\n",
    "#          (4,5,8),(4,7,3),(5,3,3),(5,8,6),(6,0,7),(6,1,6),(7,0,8),(7,3,9),(7,6,2),(7,8,3),(8,2,3),(8,4,5)]\n",
    "sample = [\n",
    " [0, 2, 8, 0, 0, 0, 9, 7, 0],\n",
    " [4, 0, 0, 9, 0, 6, 0, 0, 2],\n",
    " [9, 0, 0, 0, 0, 0, 0, 0, 4],\n",
    " [0, 5, 0, 0, 8, 0, 0, 2, 0],\n",
    " [0, 0, 0, 3, 0, 5, 0, 0, 0],\n",
    " [0, 1, 0, 0, 6, 0, 0, 3, 0],\n",
    " [1, 0, 0, 0, 0, 0, 0, 0, 9],\n",
    " [3, 0, 0, 7, 0, 1, 0, 0, 8],\n",
    " [0, 7, 2, 0, 0, 0, 1, 5, 0]]\n",
    "original = ConstraintBoard(matrix=sample)\n",
    "original.solve(original.con_board)"
   ]
  },
  {
   "cell_type": "markdown",
   "metadata": {},
   "source": [
    "## Image Square Extraction Class\n",
    "The below class provides utility for the loading of an image of a Sudoku and the extraction of each of the squares in the puzzle"
   ]
  },
  {
   "cell_type": "code",
   "execution_count": 73,
   "metadata": {},
   "outputs": [],
   "source": [
    "# Load image\n",
    "# Threshold image to binary\n",
    "# Find contours\n",
    "# Find square with largest area\n",
    "# Apply perspective transform\n",
    "# Get each individual square\n",
    "# Use OCR to extract digits from non-empty cells\n",
    "# Solve\n",
    "\n",
    "class SudokuOCR:\n",
    "    def image_to_sudoku(self, image_path):\n",
    "        image = cv2.imread(image_path, cv2.IMREAD_GRAYSCALE)\n",
    "        ret_val, thresholded = cv2.threshold(src=image, thresh=127, maxval=255, type=cv2.THRESH_BINARY)\n",
    "        "
   ]
  },
  {
   "cell_type": "code",
   "execution_count": 74,
   "metadata": {},
   "outputs": [],
   "source": [
    "SIDE_LENGTH = 9\n",
    "image = cv2.imread(\"example sudoku.webp\", cv2.IMREAD_COLOR)\n",
    "grayscale = cv2.cvtColor(image, cv2.COLOR_BGR2GRAY)\n",
    "# Convert to a binary image, swapping white and black\n",
    "ret_val, thresholded = cv2.threshold(src=grayscale, thresh=127, maxval=255, type=cv2.THRESH_BINARY_INV)\n",
    "# Extract every object that is black in the original image\n",
    "contours, hierarchy = cv2.findContours(thresholded, cv2.RETR_TREE, cv2.CHAIN_APPROX_SIMPLE)\n",
    "# Get the squares by extracting the 1st through 81st highest area shapes\n",
    "squares = sorted(contours, \n",
    "                 key=cv2.contourArea, reverse=True)[1:SIDE_LENGTH**2+1]\n",
    "# Find the leftmost and topmost coords for each square\n",
    "maxes = [(square, min(square[:,0,0]), max(square[:,0,1])) for square in squares]\n",
    "# Order the squares in a 2D list, from top to bottom, left to right\n",
    "top_bottom = [sorted(maxes, key=itemgetter(2))[i:i+SIDE_LENGTH] for i in range(0, SIDE_LENGTH**2, SIDE_LENGTH)]\n",
    "left_right = [sorted(row, key=itemgetter(1)) for row in top_bottom]\n",
    "arranged = [[col[0] for col in row] for row in left_right]"
   ]
  },
  {
   "cell_type": "code",
   "execution_count": 132,
   "metadata": {},
   "outputs": [
    {
     "data": {
      "text/plain": [
       "<matplotlib.image.AxesImage at 0x17765cee0>"
      ]
     },
     "execution_count": 132,
     "metadata": {},
     "output_type": "execute_result"
    },
    {
     "data": {
      "image/png": "[encoded data removed]",
      "text/plain": [
       "<Figure size 640x480 with 1 Axes>"
      ]
     },
     "metadata": {},
     "output_type": "display_data"
    }
   ],
   "source": [
    "contour = arranged[0][1]\n",
    "def prepare_square(contour, image, target_size: tuple[int, int]=(28, 28)):\n",
    "    \"\"\"\n",
    "    Extract the center of the square within the given contour, cut off the borders, and resize it\n",
    "    \"\"\"\n",
    "    x, y, w, h = cv2.boundingRect(contour)\n",
    "    x += int(0.1*w)\n",
    "    y += int(0.1*h)\n",
    "    w = int(0.8*w)\n",
    "    h = int(0.8*h)\n",
    "    contents = image[y:y+h, x:x+w]\n",
    "    resized = cv2.resize(contents, target_size, interpolation = cv2.INTER_CUBIC)\n",
    "    # Re-threshold the image\n",
    "    _, thresholded = cv2.threshold(\n",
    "        src=resized, thresh=127, maxval=1, type=cv2.THRESH_BINARY)\n",
    "    return thresholded\n",
    "\n",
    "square = prepare_square(contour, thresholded)\n",
    "plt.imshow(square)"
   ]
  },
  {
   "cell_type": "markdown",
   "metadata": {},
   "source": [
    "## Train a Convolutional Neural Network"
   ]
  },
  {
   "cell_type": "code",
   "execution_count": 117,
   "metadata": {},
   "outputs": [
    {
     "name": "stdout",
     "output_type": "stream",
     "text": [
      "(54077, 28, 28) (54077,) (9020, 28, 28) (9020,)\n",
      "1352/1352 [==============================] - 23s 17ms/step - loss: 0.1441 - accuracy: 0.9571 - val_loss: 0.0620 - val_accuracy: 0.9813\n"
     ]
    },
    {
     "data": {
      "text/plain": [
       "<keras.src.callbacks.History at 0x28a436940>"
      ]
     },
     "execution_count": 117,
     "metadata": {},
     "output_type": "execute_result"
    }
   ],
   "source": [
    "(x_train, y_train), (x_test, y_test) = keras.datasets.mnist.load_data()\n",
    "# Remove the instances of the digit 0, since it isn't used in Sudoku\n",
    "non_zero_train = y_train != 0\n",
    "x_train = x_train[non_zero_train]\n",
    "y_train = y_train[non_zero_train]\n",
    "non_zero_test = y_test != 0\n",
    "x_test = x_test[non_zero_test]\n",
    "y_test = y_test[non_zero_test]\n",
    "print(x_train.shape, y_train.shape, x_test.shape, y_test.shape)\n",
    "# Threshold to either 0 or 1\n",
    "x_train = np.where(x_train > 127, 1, 0)\n",
    "x_test = np.where(x_test > 127, 1, 0)\n",
    "# Convert labels to one-hot matrices\n",
    "y_train = keras.utils.to_categorical(y_train-1, 9)\n",
    "y_test = keras.utils.to_categorical(y_test-1, 9)\n",
    "\n",
    "# Create the convolutional neural network\n",
    "digit_OCR = keras.Sequential(\n",
    "    [\n",
    "        keras.Input(shape=(28, 28, 1)),\n",
    "        layers.Conv2D(32, kernel_size=(3, 3), activation=\"relu\"),\n",
    "        layers.Conv2D(64, kernel_size=(3, 3), activation=\"relu\"),\n",
    "        layers.Flatten(),\n",
    "        layers.Dense(9, activation=\"softmax\")\n",
    "    ]\n",
    ")\n",
    "\n",
    "digit_OCR.compile(loss=\"categorical_crossentropy\", optimizer=\"adam\", metrics=[\"accuracy\"])\n",
    "digit_OCR.fit(x_train, y_train, validation_split=0.2)"
   ]
  },
  {
   "cell_type": "code",
   "execution_count": 133,
   "metadata": {},
   "outputs": [
    {
     "name": "stdout",
     "output_type": "stream",
     "text": [
      "[[0 0 0 0 0 0 0 0 0 0 0 0 0 0 0 0 0 0 0 0 0 0 0 0 0 0 0 0]\n",
      " [0 0 0 0 0 0 0 0 0 0 0 0 0 0 0 0 0 0 0 0 0 0 0 0 0 0 0 0]\n",
      " [0 0 0 0 0 0 0 0 0 0 0 0 0 0 0 0 0 0 0 0 0 0 0 0 0 0 0 0]\n",
      " [0 0 0 0 0 0 0 0 0 0 0 0 0 0 0 0 0 0 0 0 0 0 0 0 0 0 0 0]\n",
      " [0 0 0 0 0 0 0 0 0 0 0 0 0 0 0 0 0 0 0 0 0 0 0 0 0 0 0 0]\n",
      " [0 0 0 0 0 0 0 0 0 0 0 0 1 1 1 1 1 1 0 0 0 0 0 0 0 0 0 0]\n",
      " [0 0 0 0 0 0 0 0 0 0 0 1 1 1 0 0 1 1 1 0 0 0 0 0 0 0 0 0]\n",
      " [0 0 0 0 0 0 0 0 0 0 1 1 0 0 0 0 0 1 1 0 0 0 0 0 0 0 0 0]\n",
      " [0 0 0 0 0 0 0 0 0 1 1 0 0 0 0 0 0 0 1 1 0 0 0 0 0 0 0 0]\n",
      " [0 0 0 0 0 0 0 0 0 1 1 0 0 0 0 0 0 0 0 0 0 0 0 0 0 0 0 0]\n",
      " [0 0 0 0 0 0 0 0 0 1 0 0 0 0 0 0 0 0 0 0 0 0 0 0 0 0 0 0]\n",
      " [0 0 0 0 0 0 0 0 0 1 0 0 0 0 0 0 0 0 0 0 0 0 0 0 0 0 0 0]\n",
      " [0 0 0 0 0 0 0 0 1 1 0 0 1 1 1 1 1 1 0 0 0 0 0 0 0 0 0 0]\n",
      " [0 0 0 0 0 0 0 0 1 1 1 1 1 0 0 1 1 1 1 0 0 0 0 0 0 0 0 0]\n",
      " [0 0 0 0 0 0 0 0 1 1 1 1 0 0 0 0 0 1 1 0 0 0 0 0 0 0 0 0]\n",
      " [0 0 0 0 0 0 0 0 1 1 1 0 0 0 0 0 0 0 1 1 0 0 0 0 0 0 0 0]\n",
      " [0 0 0 0 0 0 0 0 1 1 0 0 0 0 0 0 0 0 1 1 0 0 0 0 0 0 0 0]\n",
      " [0 0 0 0 0 0 0 0 1 1 0 0 0 0 0 0 0 0 1 1 0 0 0 0 0 0 0 0]\n",
      " [0 0 0 0 0 0 0 0 0 1 0 0 0 0 0 0 0 0 1 1 0 0 0 0 0 0 0 0]\n",
      " [0 0 0 0 0 0 0 0 0 1 1 0 0 0 0 0 0 0 1 1 0 0 0 0 0 0 0 0]\n",
      " [0 0 0 0 0 0 0 0 0 1 1 1 0 0 0 0 0 1 1 0 0 0 0 0 0 0 0 0]\n",
      " [0 0 0 0 0 0 0 0 0 0 1 1 0 0 0 0 1 1 1 0 0 0 0 0 0 0 0 0]\n",
      " [0 0 0 0 0 0 0 0 0 0 0 1 1 1 1 1 1 1 0 0 0 0 0 0 0 0 0 0]\n",
      " [0 0 0 0 0 0 0 0 0 0 0 0 0 1 1 1 0 0 0 0 0 0 0 0 0 0 0 0]\n",
      " [0 0 0 0 0 0 0 0 0 0 0 0 0 0 0 0 0 0 0 0 0 0 0 0 0 0 0 0]\n",
      " [0 0 0 0 0 0 0 0 0 0 0 0 0 0 0 0 0 0 0 0 0 0 0 0 0 0 0 0]\n",
      " [0 0 0 0 0 0 0 0 0 0 0 0 0 0 0 0 0 0 0 0 0 0 0 0 0 0 0 0]\n",
      " [0 0 0 0 0 0 0 0 0 0 0 0 0 0 0 0 0 0 0 0 0 0 0 0 0 0 0 0]]\n",
      "[[0 0 0 0 0 0 0 0 0 0 0 0 0 0 0 0 0 0 0 0 0 0 0 0 0 0 0 0]\n",
      " [0 0 0 0 0 0 0 0 0 0 0 0 0 0 0 0 0 0 0 0 0 0 0 0 0 0 0 0]\n",
      " [0 0 0 0 0 0 0 0 0 0 0 0 0 0 0 0 0 0 0 0 0 0 0 0 0 0 0 0]\n",
      " [0 0 0 0 0 0 0 0 0 0 0 0 0 0 0 0 0 0 0 0 0 0 0 0 0 0 0 0]\n",
      " [0 0 0 0 0 0 0 0 0 0 0 0 0 0 0 0 0 0 0 0 0 0 0 0 0 0 0 0]\n",
      " [0 0 0 0 0 0 0 0 0 0 0 0 0 0 0 0 0 1 1 0 1 1 1 0 0 0 0 0]\n",
      " [0 0 0 0 0 0 0 0 0 0 0 1 1 1 1 1 1 1 1 1 1 1 1 0 0 0 0 0]\n",
      " [0 0 0 0 0 0 0 0 1 1 1 1 1 1 1 1 1 1 0 0 0 0 0 0 0 0 0 0]\n",
      " [0 0 0 0 0 0 0 0 1 1 1 1 1 1 1 1 1 1 0 0 0 0 0 0 0 0 0 0]\n",
      " [0 0 0 0 0 0 0 0 0 1 0 1 1 1 0 0 0 1 0 0 0 0 0 0 0 0 0 0]\n",
      " [0 0 0 0 0 0 0 0 0 0 0 1 1 0 0 0 0 0 0 0 0 0 0 0 0 0 0 0]\n",
      " [0 0 0 0 0 0 0 0 0 0 0 1 1 1 0 0 0 0 0 0 0 0 0 0 0 0 0 0]\n",
      " [0 0 0 0 0 0 0 0 0 0 0 0 1 1 0 0 0 0 0 0 0 0 0 0 0 0 0 0]\n",
      " [0 0 0 0 0 0 0 0 0 0 0 0 0 1 1 1 0 0 0 0 0 0 0 0 0 0 0 0]\n",
      " [0 0 0 0 0 0 0 0 0 0 0 0 0 0 1 1 1 0 0 0 0 0 0 0 0 0 0 0]\n",
      " [0 0 0 0 0 0 0 0 0 0 0 0 0 0 0 1 1 1 1 0 0 0 0 0 0 0 0 0]\n",
      " [0 0 0 0 0 0 0 0 0 0 0 0 0 0 0 0 0 1 1 1 0 0 0 0 0 0 0 0]\n",
      " [0 0 0 0 0 0 0 0 0 0 0 0 0 0 0 0 0 1 1 1 0 0 0 0 0 0 0 0]\n",
      " [0 0 0 0 0 0 0 0 0 0 0 0 0 0 0 1 1 1 1 1 0 0 0 0 0 0 0 0]\n",
      " [0 0 0 0 0 0 0 0 0 0 0 0 0 1 1 1 1 1 1 1 0 0 0 0 0 0 0 0]\n",
      " [0 0 0 0 0 0 0 0 0 0 0 0 1 1 1 1 1 1 0 0 0 0 0 0 0 0 0 0]\n",
      " [0 0 0 0 0 0 0 0 0 0 1 1 1 1 1 1 0 0 0 0 0 0 0 0 0 0 0 0]\n",
      " [0 0 0 0 0 0 0 1 1 1 1 1 1 1 0 0 0 0 0 0 0 0 0 0 0 0 0 0]\n",
      " [0 0 0 0 0 1 1 1 1 1 1 1 1 0 0 0 0 0 0 0 0 0 0 0 0 0 0 0]\n",
      " [0 0 0 0 1 1 1 1 1 1 1 0 0 0 0 0 0 0 0 0 0 0 0 0 0 0 0 0]\n",
      " [0 0 0 0 0 0 0 0 0 0 0 0 0 0 0 0 0 0 0 0 0 0 0 0 0 0 0 0]\n",
      " [0 0 0 0 0 0 0 0 0 0 0 0 0 0 0 0 0 0 0 0 0 0 0 0 0 0 0 0]\n",
      " [0 0 0 0 0 0 0 0 0 0 0 0 0 0 0 0 0 0 0 0 0 0 0 0 0 0 0 0]]\n"
     ]
    }
   ],
   "source": [
    "print(square)\n",
    "print(x_train[0])"
   ]
  },
  {
   "cell_type": "code",
   "execution_count": 137,
   "metadata": {},
   "outputs": [
    {
     "name": "stdout",
     "output_type": "stream",
     "text": [
      "tf.Tensor(\n",
      "[[1.1020595e-03 4.0283861e+00 5.5355934e+01 1.5671304e-04 5.5454273e+04\n",
      "  2.2448410e+04 5.9693426e-01 1.6989221e+04 5.0481118e+03]], shape=(1, 9), dtype=float32)\n"
     ]
    }
   ],
   "source": [
    "print(digit_OCR(np.reshape(square, (1, 28, 28, 1)))*100000)"
   ]
  },
  {
   "cell_type": "code",
   "execution_count": null,
   "metadata": {},
   "outputs": [],
   "source": []
  }
 ],
 "metadata": {
  "kernelspec": {
   "display_name": "CV",
   "language": "python",
   "name": "python3"
  },
  "language_info": {
   "codemirror_mode": {
    "name": "ipython",
    "version": 3
   },
   "file_extension": ".py",
   "mimetype": "text/x-python",
   "name": "python",
   "nbconvert_exporter": "python",
   "pygments_lexer": "ipython3",
   "version": "3.9.18"
  }
 },
 "nbformat": 4,
 "nbformat_minor": 2
}
