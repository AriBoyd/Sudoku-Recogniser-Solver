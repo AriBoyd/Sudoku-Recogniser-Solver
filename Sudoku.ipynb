{
 "cells": [
  {
   "cell_type": "code",
   "execution_count": 2,
   "metadata": {},
   "outputs": [
    {
     "ename": "ImportError",
     "evalue": "Traceback (most recent call last):\n  File \"c:\\miniconda3\\envs\\sudoku\\lib\\site-packages\\tensorflow\\python\\pywrap_tensorflow.py\", line 62, in <module>\n    from tensorflow.python._pywrap_tensorflow_internal import *\nImportError: DLL load failed while importing _pywrap_tensorflow_internal: A dynamic link library (DLL) initialization routine failed.\n\n\nFailed to load the native TensorFlow runtime.\nSee https://www.tensorflow.org/install/errors for some common causes and solutions.\nIf you need help, create an issue at https://github.com/tensorflow/tensorflow/issues and include the entire stack trace above this error message.",
     "output_type": "error",
     "traceback": [
      "\u001b[1;31m---------------------------------------------------------------------------\u001b[0m",
      "\u001b[1;31mImportError\u001b[0m                               Traceback (most recent call last)",
      "File \u001b[1;32mc:\\miniconda3\\envs\\sudoku\\lib\\site-packages\\tensorflow\\python\\pywrap_tensorflow.py:62\u001b[0m\n\u001b[0;32m     61\u001b[0m \u001b[38;5;28;01mtry\u001b[39;00m:\n\u001b[1;32m---> 62\u001b[0m   \u001b[38;5;28;01mfrom\u001b[39;00m \u001b[38;5;21;01mtensorflow\u001b[39;00m\u001b[38;5;21;01m.\u001b[39;00m\u001b[38;5;21;01mpython\u001b[39;00m\u001b[38;5;21;01m.\u001b[39;00m\u001b[38;5;21;01m_pywrap_tensorflow_internal\u001b[39;00m \u001b[38;5;28;01mimport\u001b[39;00m \u001b[38;5;241m*\u001b[39m\n\u001b[0;32m     63\u001b[0m \u001b[38;5;66;03m# This try catch logic is because there is no bazel equivalent for py_extension.\u001b[39;00m\n\u001b[0;32m     64\u001b[0m \u001b[38;5;66;03m# Externally in opensource we must enable exceptions to load the shared object\u001b[39;00m\n\u001b[0;32m     65\u001b[0m \u001b[38;5;66;03m# by exposing the PyInit symbols with pybind. This error will only be\u001b[39;00m\n\u001b[0;32m     66\u001b[0m \u001b[38;5;66;03m# caught internally or if someone changes the name of the target _pywrap_tensorflow_internal.\u001b[39;00m\n\u001b[0;32m     67\u001b[0m \n\u001b[0;32m     68\u001b[0m \u001b[38;5;66;03m# This logic is used in other internal projects using py_extension.\u001b[39;00m\n",
      "\u001b[1;31mImportError\u001b[0m: DLL load failed while importing _pywrap_tensorflow_internal: A dynamic link library (DLL) initialization routine failed.",
      "\nDuring handling of the above exception, another exception occurred:\n",
      "\u001b[1;31mImportError\u001b[0m                               Traceback (most recent call last)",
      "Cell \u001b[1;32mIn[2], line 6\u001b[0m\n\u001b[0;32m      4\u001b[0m \u001b[38;5;28;01mfrom\u001b[39;00m \u001b[38;5;21;01mmatplotlib\u001b[39;00m \u001b[38;5;28;01mimport\u001b[39;00m pyplot \u001b[38;5;28;01mas\u001b[39;00m plt\n\u001b[0;32m      5\u001b[0m \u001b[38;5;28;01mfrom\u001b[39;00m \u001b[38;5;21;01moperator\u001b[39;00m \u001b[38;5;28;01mimport\u001b[39;00m itemgetter\n\u001b[1;32m----> 6\u001b[0m \u001b[38;5;28;01mimport\u001b[39;00m \u001b[38;5;21;01mkeras\u001b[39;00m\n\u001b[0;32m      7\u001b[0m BLANK \u001b[38;5;241m=\u001b[39m \u001b[38;5;241m0\u001b[39m\n",
      "File \u001b[1;32mc:\\miniconda3\\envs\\sudoku\\lib\\site-packages\\keras\\__init__.py:20\u001b[0m\n\u001b[0;32m      1\u001b[0m \u001b[38;5;66;03m# Copyright 2015 The TensorFlow Authors. All Rights Reserved.\u001b[39;00m\n\u001b[0;32m      2\u001b[0m \u001b[38;5;66;03m#\u001b[39;00m\n\u001b[0;32m      3\u001b[0m \u001b[38;5;66;03m# Licensed under the Apache License, Version 2.0 (the \"License\");\u001b[39;00m\n\u001b[1;32m   (...)\u001b[0m\n\u001b[0;32m     13\u001b[0m \u001b[38;5;66;03m# limitations under the License.\u001b[39;00m\n\u001b[0;32m     14\u001b[0m \u001b[38;5;66;03m# ==============================================================================\u001b[39;00m\n\u001b[0;32m     15\u001b[0m \u001b[38;5;124;03m\"\"\"Implementation of the Keras API, the high-level API of TensorFlow.\u001b[39;00m\n\u001b[0;32m     16\u001b[0m \n\u001b[0;32m     17\u001b[0m \u001b[38;5;124;03mDetailed documentation and user guides are available at\u001b[39;00m\n\u001b[0;32m     18\u001b[0m \u001b[38;5;124;03m[keras.io](https://keras.io).\u001b[39;00m\n\u001b[0;32m     19\u001b[0m \u001b[38;5;124;03m\"\"\"\u001b[39;00m\n\u001b[1;32m---> 20\u001b[0m \u001b[38;5;28;01mfrom\u001b[39;00m \u001b[38;5;21;01mkeras\u001b[39;00m \u001b[38;5;28;01mimport\u001b[39;00m distribute\n\u001b[0;32m     21\u001b[0m \u001b[38;5;28;01mfrom\u001b[39;00m \u001b[38;5;21;01mkeras\u001b[39;00m \u001b[38;5;28;01mimport\u001b[39;00m models\n\u001b[0;32m     22\u001b[0m \u001b[38;5;28;01mfrom\u001b[39;00m \u001b[38;5;21;01mkeras\u001b[39;00m\u001b[38;5;21;01m.\u001b[39;00m\u001b[38;5;21;01mengine\u001b[39;00m\u001b[38;5;21;01m.\u001b[39;00m\u001b[38;5;21;01minput_layer\u001b[39;00m \u001b[38;5;28;01mimport\u001b[39;00m Input\n",
      "File \u001b[1;32mc:\\miniconda3\\envs\\sudoku\\lib\\site-packages\\keras\\distribute\\__init__.py:18\u001b[0m\n\u001b[0;32m      1\u001b[0m \u001b[38;5;66;03m# Copyright 2019 The TensorFlow Authors. All Rights Reserved.\u001b[39;00m\n\u001b[0;32m      2\u001b[0m \u001b[38;5;66;03m#\u001b[39;00m\n\u001b[0;32m      3\u001b[0m \u001b[38;5;66;03m# Licensed under the Apache License, Version 2.0 (the \"License\");\u001b[39;00m\n\u001b[1;32m   (...)\u001b[0m\n\u001b[0;32m     13\u001b[0m \u001b[38;5;66;03m# limitations under the License.\u001b[39;00m\n\u001b[0;32m     14\u001b[0m \u001b[38;5;66;03m# ==============================================================================\u001b[39;00m\n\u001b[0;32m     15\u001b[0m \u001b[38;5;124;03m\"\"\"Keras' Distribution Strategy library.\"\"\"\u001b[39;00m\n\u001b[1;32m---> 18\u001b[0m \u001b[38;5;28;01mfrom\u001b[39;00m \u001b[38;5;21;01mkeras\u001b[39;00m\u001b[38;5;21;01m.\u001b[39;00m\u001b[38;5;21;01mdistribute\u001b[39;00m \u001b[38;5;28;01mimport\u001b[39;00m sidecar_evaluator\n",
      "File \u001b[1;32mc:\\miniconda3\\envs\\sudoku\\lib\\site-packages\\keras\\distribute\\sidecar_evaluator.py:17\u001b[0m\n\u001b[0;32m      1\u001b[0m \u001b[38;5;66;03m# Copyright 2020 The TensorFlow Authors. All Rights Reserved.\u001b[39;00m\n\u001b[0;32m      2\u001b[0m \u001b[38;5;66;03m#\u001b[39;00m\n\u001b[0;32m      3\u001b[0m \u001b[38;5;66;03m# Licensed under the Apache License, Version 2.0 (the \"License\");\u001b[39;00m\n\u001b[1;32m   (...)\u001b[0m\n\u001b[0;32m     13\u001b[0m \u001b[38;5;66;03m# limitations under the License.\u001b[39;00m\n\u001b[0;32m     14\u001b[0m \u001b[38;5;66;03m# ==============================================================================\u001b[39;00m\n\u001b[0;32m     15\u001b[0m \u001b[38;5;124;03m\"\"\"Python module for evaluation loop.\"\"\"\u001b[39;00m\n\u001b[1;32m---> 17\u001b[0m \u001b[38;5;28;01mimport\u001b[39;00m \u001b[38;5;21;01mtensorflow\u001b[39;00m\u001b[38;5;21;01m.\u001b[39;00m\u001b[38;5;21;01mcompat\u001b[39;00m\u001b[38;5;21;01m.\u001b[39;00m\u001b[38;5;21;01mv2\u001b[39;00m \u001b[38;5;28;01mas\u001b[39;00m \u001b[38;5;21;01mtf\u001b[39;00m\n\u001b[0;32m     19\u001b[0m \u001b[38;5;66;03m# isort: off\u001b[39;00m\n\u001b[0;32m     20\u001b[0m \u001b[38;5;28;01mfrom\u001b[39;00m \u001b[38;5;21;01mtensorflow\u001b[39;00m\u001b[38;5;21;01m.\u001b[39;00m\u001b[38;5;21;01mpython\u001b[39;00m\u001b[38;5;21;01m.\u001b[39;00m\u001b[38;5;21;01mplatform\u001b[39;00m \u001b[38;5;28;01mimport\u001b[39;00m tf_logging \u001b[38;5;28;01mas\u001b[39;00m logging\n",
      "File \u001b[1;32mc:\\miniconda3\\envs\\sudoku\\lib\\site-packages\\tensorflow\\__init__.py:37\u001b[0m\n\u001b[0;32m     34\u001b[0m \u001b[38;5;28;01mimport\u001b[39;00m \u001b[38;5;21;01msys\u001b[39;00m \u001b[38;5;28;01mas\u001b[39;00m \u001b[38;5;21;01m_sys\u001b[39;00m\n\u001b[0;32m     35\u001b[0m \u001b[38;5;28;01mimport\u001b[39;00m \u001b[38;5;21;01mtyping\u001b[39;00m \u001b[38;5;28;01mas\u001b[39;00m \u001b[38;5;21;01m_typing\u001b[39;00m\n\u001b[1;32m---> 37\u001b[0m \u001b[38;5;28;01mfrom\u001b[39;00m \u001b[38;5;21;01mtensorflow\u001b[39;00m\u001b[38;5;21;01m.\u001b[39;00m\u001b[38;5;21;01mpython\u001b[39;00m\u001b[38;5;21;01m.\u001b[39;00m\u001b[38;5;21;01mtools\u001b[39;00m \u001b[38;5;28;01mimport\u001b[39;00m module_util \u001b[38;5;28;01mas\u001b[39;00m _module_util\n\u001b[0;32m     38\u001b[0m \u001b[38;5;28;01mfrom\u001b[39;00m \u001b[38;5;21;01mtensorflow\u001b[39;00m\u001b[38;5;21;01m.\u001b[39;00m\u001b[38;5;21;01mpython\u001b[39;00m\u001b[38;5;21;01m.\u001b[39;00m\u001b[38;5;21;01mutil\u001b[39;00m\u001b[38;5;21;01m.\u001b[39;00m\u001b[38;5;21;01mlazy_loader\u001b[39;00m \u001b[38;5;28;01mimport\u001b[39;00m LazyLoader \u001b[38;5;28;01mas\u001b[39;00m _LazyLoader\n\u001b[0;32m     40\u001b[0m \u001b[38;5;66;03m# Make sure code inside the TensorFlow codebase can use tf2.enabled() at import.\u001b[39;00m\n",
      "File \u001b[1;32mc:\\miniconda3\\envs\\sudoku\\lib\\site-packages\\tensorflow\\python\\__init__.py:36\u001b[0m\n\u001b[0;32m     27\u001b[0m \u001b[38;5;28;01mimport\u001b[39;00m \u001b[38;5;21;01mtraceback\u001b[39;00m\n\u001b[0;32m     29\u001b[0m \u001b[38;5;66;03m# We aim to keep this file minimal and ideally remove completely.\u001b[39;00m\n\u001b[0;32m     30\u001b[0m \u001b[38;5;66;03m# If you are adding a new file with @tf_export decorators,\u001b[39;00m\n\u001b[0;32m     31\u001b[0m \u001b[38;5;66;03m# import it in modules_with_exports.py instead.\u001b[39;00m\n\u001b[0;32m     32\u001b[0m \n\u001b[0;32m     33\u001b[0m \u001b[38;5;66;03m# go/tf-wildcard-import\u001b[39;00m\n\u001b[0;32m     34\u001b[0m \u001b[38;5;66;03m# pylint: disable=wildcard-import,g-bad-import-order,g-import-not-at-top\u001b[39;00m\n\u001b[1;32m---> 36\u001b[0m \u001b[38;5;28;01mfrom\u001b[39;00m \u001b[38;5;21;01mtensorflow\u001b[39;00m\u001b[38;5;21;01m.\u001b[39;00m\u001b[38;5;21;01mpython\u001b[39;00m \u001b[38;5;28;01mimport\u001b[39;00m pywrap_tensorflow \u001b[38;5;28;01mas\u001b[39;00m _pywrap_tensorflow\n\u001b[0;32m     37\u001b[0m \u001b[38;5;28;01mfrom\u001b[39;00m \u001b[38;5;21;01mtensorflow\u001b[39;00m\u001b[38;5;21;01m.\u001b[39;00m\u001b[38;5;21;01mpython\u001b[39;00m\u001b[38;5;21;01m.\u001b[39;00m\u001b[38;5;21;01meager\u001b[39;00m \u001b[38;5;28;01mimport\u001b[39;00m context\n\u001b[0;32m     39\u001b[0m \u001b[38;5;66;03m# pylint: enable=wildcard-import\u001b[39;00m\n\u001b[0;32m     40\u001b[0m \n\u001b[0;32m     41\u001b[0m \u001b[38;5;66;03m# Bring in subpackages.\u001b[39;00m\n",
      "File \u001b[1;32mc:\\miniconda3\\envs\\sudoku\\lib\\site-packages\\tensorflow\\python\\pywrap_tensorflow.py:77\u001b[0m\n\u001b[0;32m     75\u001b[0m     sys\u001b[38;5;241m.\u001b[39msetdlopenflags(_default_dlopen_flags)\n\u001b[0;32m     76\u001b[0m \u001b[38;5;28;01mexcept\u001b[39;00m \u001b[38;5;167;01mImportError\u001b[39;00m:\n\u001b[1;32m---> 77\u001b[0m   \u001b[38;5;28;01mraise\u001b[39;00m \u001b[38;5;167;01mImportError\u001b[39;00m(\n\u001b[0;32m     78\u001b[0m       \u001b[38;5;124mf\u001b[39m\u001b[38;5;124m'\u001b[39m\u001b[38;5;132;01m{\u001b[39;00mtraceback\u001b[38;5;241m.\u001b[39mformat_exc()\u001b[38;5;132;01m}\u001b[39;00m\u001b[38;5;124m'\u001b[39m\n\u001b[0;32m     79\u001b[0m       \u001b[38;5;124mf\u001b[39m\u001b[38;5;124m'\u001b[39m\u001b[38;5;130;01m\\n\u001b[39;00m\u001b[38;5;130;01m\\n\u001b[39;00m\u001b[38;5;124mFailed to load the native TensorFlow runtime.\u001b[39m\u001b[38;5;130;01m\\n\u001b[39;00m\u001b[38;5;124m'\u001b[39m\n\u001b[0;32m     80\u001b[0m       \u001b[38;5;124mf\u001b[39m\u001b[38;5;124m'\u001b[39m\u001b[38;5;124mSee https://www.tensorflow.org/install/errors \u001b[39m\u001b[38;5;124m'\u001b[39m\n\u001b[0;32m     81\u001b[0m       \u001b[38;5;124mf\u001b[39m\u001b[38;5;124m'\u001b[39m\u001b[38;5;124mfor some common causes and solutions.\u001b[39m\u001b[38;5;130;01m\\n\u001b[39;00m\u001b[38;5;124m'\u001b[39m\n\u001b[0;32m     82\u001b[0m       \u001b[38;5;124mf\u001b[39m\u001b[38;5;124m'\u001b[39m\u001b[38;5;124mIf you need help, create an issue \u001b[39m\u001b[38;5;124m'\u001b[39m\n\u001b[0;32m     83\u001b[0m       \u001b[38;5;124mf\u001b[39m\u001b[38;5;124m'\u001b[39m\u001b[38;5;124mat https://github.com/tensorflow/tensorflow/issues \u001b[39m\u001b[38;5;124m'\u001b[39m\n\u001b[0;32m     84\u001b[0m       \u001b[38;5;124mf\u001b[39m\u001b[38;5;124m'\u001b[39m\u001b[38;5;124mand include the entire stack trace above this error message.\u001b[39m\u001b[38;5;124m'\u001b[39m)\n\u001b[0;32m     86\u001b[0m \u001b[38;5;66;03m# pylint: enable=wildcard-import,g-import-not-at-top,unused-import,line-too-long\u001b[39;00m\n",
      "\u001b[1;31mImportError\u001b[0m: Traceback (most recent call last):\n  File \"c:\\miniconda3\\envs\\sudoku\\lib\\site-packages\\tensorflow\\python\\pywrap_tensorflow.py\", line 62, in <module>\n    from tensorflow.python._pywrap_tensorflow_internal import *\nImportError: DLL load failed while importing _pywrap_tensorflow_internal: A dynamic link library (DLL) initialization routine failed.\n\n\nFailed to load the native TensorFlow runtime.\nSee https://www.tensorflow.org/install/errors for some common causes and solutions.\nIf you need help, create an issue at https://github.com/tensorflow/tensorflow/issues and include the entire stack trace above this error message."
     ]
    }
   ],
   "source": [
    "from copy import deepcopy\n",
    "from typing import Optional\n",
    "import cv2\n",
    "from matplotlib import pyplot as plt\n",
    "from operator import itemgetter\n",
    "import keras\n",
    "BLANK = 0"
   ]
  },
  {
   "cell_type": "code",
   "execution_count": null,
   "metadata": {},
   "outputs": [],
   "source": [
    "BoardSuperposition = list[list[set[int] | int]]\n",
    "Square = tuple[int, int]\n",
    "\n",
    "# ConstraintBoard's con_board is a 2D list of where con_board[x][y] is a set of possible numbers in the square\n",
    "class ConstraintBoard:\n",
    "    \"\"\"\n",
    "    A ConstraintBoard represents a Sudoku board, where the set at x, y in its con_board represents all the\n",
    "    possible numbers for the blank square at row x, column y in the corresponding Sudoku.\n",
    "    If instead conv_board[x][y] is an integer, it represents a filled square.\n",
    "    \"\"\"\n",
    "    def __init__(self, box_size: int = 3, coords: list[tuple[int, int, int]] = None, matrix: list[list[int]] = None):\n",
    "        self.box_size = box_size\n",
    "        self.length = box_size**2\n",
    "        # Initialise a blank board with all possible numbers for each square\n",
    "        self.con_board = [[set(range(1, self.length+1)) \n",
    "                            for _ in range(self.length)] for _ in range(self.length)]\n",
    "        if coords:\n",
    "            self.board_from_coords(coords)\n",
    "        elif matrix:\n",
    "            self.board_from_matrix(matrix)\n",
    "                        \n",
    "    def board_from_coords(self, coords: list[tuple[int, int, int]]):\n",
    "        \"\"\"\n",
    "        Initialise a board from a list of square coordinates and numbers\n",
    "        \"\"\"\n",
    "        for (x, y, num) in coords: \n",
    "            self.con_board = self.fill_square((x, y), num, self.con_board)\n",
    "\n",
    "    def board_from_matrix(self, matrix: list[list[int]]):\n",
    "        \"\"\"\n",
    "        Intialise a board from a 2D list representing squares in a Sudoku board\n",
    "        \"\"\"\n",
    "        for x in range(len(matrix)):\n",
    "            for y in range(len(matrix[x])):\n",
    "                num = matrix[x][y]\n",
    "                if num != BLANK:\n",
    "                    self.con_board = self.fill_square((x, y), num, self.con_board)\n",
    "\n",
    "    def solve(self, board: BoardSuperposition) -> Optional[BoardSuperposition]:\n",
    "        \"\"\"\n",
    "        Recursively fill in squares, backtracking if necessary until a solution is achieved\n",
    "        \"\"\"\n",
    "        square = self.get_next_empty(board)\n",
    "        # We've solved it!\n",
    "        if not square:\n",
    "            return board\n",
    "\n",
    "        options = board[square[0]][square[1]]\n",
    "        # Recursively split to try every possible number for the given square\n",
    "        for option in options:\n",
    "            new_board = self.fill_square(square, option, board)\n",
    "            # The new_board is None when it's unsolvable\n",
    "            if not new_board:\n",
    "                continue\n",
    "            solution = self.solve(new_board)\n",
    "            # Only care about the first solution\n",
    "            if solution:\n",
    "                return solution\n",
    "        # The given board is unsolvable\n",
    "        return None\n",
    "    \n",
    "    def get_next_empty(self, board: BoardSuperposition) -> Optional[Square]:\n",
    "        \"\"\"\n",
    "        Find the next empty square with fewest possible numbers, return its coords as a tuple\n",
    "        \"\"\"\n",
    "        best_square = None\n",
    "        cur_fewest = self.length + 1\n",
    "\n",
    "        for row in range(self.length):\n",
    "            for col in range(self.length):\n",
    "                if type(board[row][col])!=int:\n",
    "                    if len(board[row][col]) < cur_fewest:\n",
    "                        best_square = (row, col)\n",
    "                        cur_fewest = len(board[row][col])\n",
    "        return best_square\n",
    "\n",
    "    def fill_square(self, square: Square, num: int, board: BoardSuperposition) -> Optional[Square]:\n",
    "        \"\"\"\n",
    "        Fill in square in our board with num and remove it as possibility in other squares\n",
    "        \"\"\"\n",
    "        new_board = deepcopy(board)\n",
    "        squares = self.get_squares(square)\n",
    "        for (x, y) in squares:\n",
    "            # Skip over this square if it's already filled in\n",
    "            if type(new_board[x][y])!=int:\n",
    "                new_board[x][y].discard(num)\n",
    "            # This square is unsolvable, need to backtrack\n",
    "            if not new_board[x][y]:\n",
    "                return None\n",
    "        new_board[square[0]][square[1]] = num\n",
    "        return new_board\n",
    "\n",
    "    def get_squares(self, square: Square) -> set[Square]:\n",
    "        \"\"\"\n",
    "        Gets the coordinates of every other square in the same row, column, and square\n",
    "        \"\"\"\n",
    "        # Which box the square is in, e.g. (0, 0) is the top-leftmost box\n",
    "        box = (square[0]//self.box_size, square[1]//self.box_size)\n",
    "        indices = range(self.length)\n",
    "        same_row = {(num, square[1]) for num in indices}\n",
    "        same_col = {(square[0], num) for num in indices}\n",
    "        same_box = {(self.box_size*box[0]+i, self.box_size*box[1]+j) \n",
    "                    for i in range(self.box_size) for j in range(self.box_size)}\n",
    "        squares = same_row | same_col | same_box\n",
    "        # Remove the original square, since it will be collapsed to a number\n",
    "        squares.remove(square)\n",
    "        return squares"
   ]
  },
  {
   "cell_type": "code",
   "execution_count": 8,
   "metadata": {},
   "outputs": [
    {
     "data": {
      "text/plain": [
       "[[5, 2, 8, 1, 4, 3, 9, 7, 6],\n",
       " [4, 3, 1, 9, 7, 6, 5, 8, 2],\n",
       " [9, 6, 7, 5, 2, 8, 3, 1, 4],\n",
       " [7, 5, 3, 4, 8, 9, 6, 2, 1],\n",
       " [2, 4, 6, 3, 1, 5, 8, 9, 7],\n",
       " [8, 1, 9, 2, 6, 7, 4, 3, 5],\n",
       " [1, 8, 5, 6, 3, 2, 7, 4, 9],\n",
       " [3, 9, 4, 7, 5, 1, 2, 6, 8],\n",
       " [6, 7, 2, 8, 9, 4, 1, 5, 3]]"
      ]
     },
     "execution_count": 8,
     "metadata": {},
     "output_type": "execute_result"
    }
   ],
   "source": [
    "# sample = [(0,4,8),(0,6,5),(1,0,2),(1,2,4),(1,5,3),(1,8,7),(2,7,9),(2,8,1),(3,0,6),(3,5,1),(4,1,2),(4,3,6),(4,4,9),\n",
    "#          (4,5,8),(4,7,3),(5,3,3),(5,8,6),(6,0,7),(6,1,6),(7,0,8),(7,3,9),(7,6,2),(7,8,3),(8,2,3),(8,4,5)]\n",
    "sample = [\n",
    " [0, 2, 8, 0, 0, 0, 9, 7, 0],\n",
    " [4, 0, 0, 9, 0, 6, 0, 0, 2],\n",
    " [9, 0, 0, 0, 0, 0, 0, 0, 4],\n",
    " [0, 5, 0, 0, 8, 0, 0, 2, 0],\n",
    " [0, 0, 0, 3, 0, 5, 0, 0, 0],\n",
    " [0, 1, 0, 0, 6, 0, 0, 3, 0],\n",
    " [1, 0, 0, 0, 0, 0, 0, 0, 9],\n",
    " [3, 0, 0, 7, 0, 1, 0, 0, 8],\n",
    " [0, 7, 2, 0, 0, 0, 1, 5, 0]]\n",
    "original = ConstraintBoard(matrix = sample)\n",
    "original.solve(original.con_board)"
   ]
  },
  {
   "cell_type": "code",
   "execution_count": null,
   "metadata": {},
   "outputs": [],
   "source": [
    "# Load image\n",
    "# Threshold image to binary\n",
    "# Find contours\n",
    "# Find square with largest area\n",
    "# Apply perspective transform\n",
    "# Get each individual square\n",
    "# Use OCR to extract digits from non-empty cells\n",
    "# Solve\n",
    "\n",
    "class SudokuOCR:\n",
    "    def image_to_sudoku(self, image_path):\n",
    "        image = cv2.imread(image_path, cv2.IMREAD_GRAYSCALE)\n",
    "        ret_val, thresholded = cv2.threshold(src=image, thresh=127, maxval=255, type=cv2.THRESH_BINARY)\n",
    "        "
   ]
  },
  {
   "cell_type": "code",
   "execution_count": 43,
   "metadata": {},
   "outputs": [],
   "source": [
    "SIDE_LENGTH = 9\n",
    "image = cv2.imread(\"example sudoku.webp\", cv2.IMREAD_COLOR)\n",
    "grayscale = cv2.cvtColor(image, cv2.COLOR_BGR2GRAY)\n",
    "# Convert to a binary image, swapping white and black\n",
    "ret_val, thresholded = cv2.threshold(src=grayscale, thresh=127, maxval=255, type=cv2.THRESH_BINARY_INV)\n",
    "# Extract every object that is black in the original image\n",
    "contours, hierarchy = cv2.findContours(thresholded, cv2.RETR_TREE, cv2.CHAIN_APPROX_SIMPLE)\n",
    "# Get the squares by extracting the 1st through 81st highest area shapes\n",
    "squares = sorted(contours, \n",
    "                 key=cv2.contourArea, reverse=True)[1:SIDE_LENGTH**2+1]\n",
    "# Find the leftmost and topmost coords for each square\n",
    "maxes = [(square, min(square[:,0,0]), max(square[:,0,1])) for square in squares]\n",
    "# Order the squares in a 2D list, from top to bottom, left to right\n",
    "top_bottom = [sorted(maxes, key=itemgetter(2))[i:i+SIDE_LENGTH] for i in range(0, SIDE_LENGTH**2, SIDE_LENGTH)]\n",
    "left_right = [sorted(row, key=itemgetter(1)) for row in top_bottom]\n",
    "arranged = [[col[0] for col in row] for row in left_right]"
   ]
  },
  {
   "cell_type": "code",
   "execution_count": null,
   "metadata": {},
   "outputs": [
    {
     "data": {
      "text/plain": [
       "<matplotlib.image.AxesImage at 0x142a2889d00>"
      ]
     },
     "execution_count": 53,
     "metadata": {},
     "output_type": "execute_result"
    },
    {
     "data": {
      "image/png": "[encoded data removed]",
      "text/plain": [
       "<Figure size 640x480 with 1 Axes>"
      ]
     },
     "metadata": {},
     "output_type": "display_data"
    }
   ],
   "source": [
    "contour = arranged[0][1]\n",
    "# Extract the center of the square, cutting off the borders\n",
    "x, y, w, h = cv2.boundingRect(contour)\n",
    "x += int(0.1*w)\n",
    "y += int(0.1*h)\n",
    "w = int(0.8*w)\n",
    "h = int(0.8*h)\n",
    "contents = image[y:y+h, x:x+w]\n"
   ]
  },
  {
   "cell_type": "code",
   "execution_count": null,
   "metadata": {},
   "outputs": [],
   "source": []
  }
 ],
 "metadata": {
  "kernelspec": {
   "display_name": "sudoku",
   "language": "python",
   "name": "python3"
  },
  "language_info": {
   "codemirror_mode": {
    "name": "ipython",
    "version": 3
   },
   "file_extension": ".py",
   "mimetype": "text/x-python",
   "name": "python",
   "nbconvert_exporter": "python",
   "pygments_lexer": "ipython3",
   "version": "3.10.8"
  }
 },
 "nbformat": 4,
 "nbformat_minor": 2
}
